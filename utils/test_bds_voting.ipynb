{
 "cells": [
  {
   "cell_type": "code",
   "execution_count": 6,
   "metadata": {},
   "outputs": [
    {
     "name": "stdout",
     "output_type": "stream",
     "text": [
      "tensor([[1., 2.],\n",
      "        [3., 4.]])\n"
     ]
    },
    {
     "data": {
      "text/plain": [
       "torch.Size([2, 2])"
      ]
     },
     "execution_count": 6,
     "metadata": {},
     "output_type": "execute_result"
    }
   ],
   "source": [
    "import torch\n",
    "x = torch.Tensor([[1, 2],[3, 4]])\n",
    "print(x)\n",
    "x.size()"
   ]
  },
  {
   "cell_type": "code",
   "execution_count": 95,
   "metadata": {},
   "outputs": [
    {
     "name": "stdout",
     "output_type": "stream",
     "text": [
      "tensor([[[[0.0759, 0.4449, 0.9818],\n",
      "          [0.9194, 0.8485, 0.7078]]]])\n",
      "1\n",
      "tensor([[[[0.0759, 0.0759, 0.4449, 0.9818, 0.9818],\n",
      "          [0.0759, 0.0759, 0.4449, 0.9818, 0.9818],\n",
      "          [0.9194, 0.9194, 0.8485, 0.7078, 0.7078],\n",
      "          [0.9194, 0.9194, 0.8485, 0.7078, 0.7078]]]])\n"
     ]
    }
   ],
   "source": [
    "x = torch.rand(1, 1, 2, 3)\n",
    "print(x)\n",
    "patch_size = 3\n",
    "n, c, h, w = x.size()\n",
    "step = patch_size//2\n",
    "print(step)\n",
    "y = torch.zeros(n, c, h + 2*step, w + 2*step)\n",
    "y[:, :, step:step+h, step:step+w] = x\n",
    "y[:, :, step:step+h,:step] = x[:, :, :,0:1].expand((n, c, h,step))\n",
    "y[:, :, step:step+h,step+w:step+2*w] = x[:, :, :,-1:w+2*step].expand((n, c, h,step))\n",
    "y[:, :, :step, :] = y[:, :, step:step+1,:].expand((n, c, step, w+2*step))\n",
    "y[:, :, h+step:, :] = y[:, :, h+step-1:h+step,:].expand((n, c, step, w+2*step))\n",
    "print(y)"
   ]
  },
  {
   "cell_type": "code",
   "execution_count": 96,
   "metadata": {},
   "outputs": [
    {
     "data": {
      "text/plain": [
       "tensor([[[[[0.0759, 0.0759, 0.4449],\n",
       "           [0.0759, 0.0759, 0.4449]],\n",
       "\n",
       "          [[0.0759, 0.4449, 0.9818],\n",
       "           [0.0759, 0.4449, 0.9818]],\n",
       "\n",
       "          [[0.4449, 0.9818, 0.9818],\n",
       "           [0.4449, 0.9818, 0.9818]],\n",
       "\n",
       "          [[0.0759, 0.0759, 0.4449],\n",
       "           [0.9194, 0.9194, 0.8485]],\n",
       "\n",
       "          [[0.0759, 0.4449, 0.9818],\n",
       "           [0.9194, 0.8485, 0.7078]],\n",
       "\n",
       "          [[0.4449, 0.9818, 0.9818],\n",
       "           [0.8485, 0.7078, 0.7078]],\n",
       "\n",
       "          [[0.9194, 0.9194, 0.8485],\n",
       "           [0.9194, 0.9194, 0.8485]],\n",
       "\n",
       "          [[0.9194, 0.8485, 0.7078],\n",
       "           [0.9194, 0.8485, 0.7078]],\n",
       "\n",
       "          [[0.8485, 0.7078, 0.7078],\n",
       "           [0.8485, 0.7078, 0.7078]]]]])"
      ]
     },
     "execution_count": 96,
     "metadata": {},
     "output_type": "execute_result"
    }
   ],
   "source": [
    "ex_feat = torch.zeros(n, c, patch_size*patch_size, h, w) #extended feature map\n",
    "# build feat tensor for flann\n",
    "for i in range(patch_size):\n",
    "    for j in range(patch_size):\n",
    "        pn = i * patch_size + j\n",
    "        ex_feat[:, :, pn, :, :] = y[:, :, i:i+h, j:j+w]\n",
    "ex_feat"
   ]
  },
  {
   "cell_type": "code",
   "execution_count": 97,
   "metadata": {},
   "outputs": [
    {
     "name": "stdout",
     "output_type": "stream",
     "text": [
      "tensor([[[[0.0759, 0.0759, 0.4449],\n",
      "          [0.0759, 0.0759, 0.4449]],\n",
      "\n",
      "         [[0.0759, 0.4449, 0.9818],\n",
      "          [0.0759, 0.4449, 0.9818]],\n",
      "\n",
      "         [[0.4449, 0.9818, 0.9818],\n",
      "          [0.4449, 0.9818, 0.9818]],\n",
      "\n",
      "         [[0.0759, 0.0759, 0.4449],\n",
      "          [0.9194, 0.9194, 0.8485]],\n",
      "\n",
      "         [[0.0759, 0.4449, 0.9818],\n",
      "          [0.9194, 0.8485, 0.7078]],\n",
      "\n",
      "         [[0.4449, 0.9818, 0.9818],\n",
      "          [0.8485, 0.7078, 0.7078]],\n",
      "\n",
      "         [[0.9194, 0.9194, 0.8485],\n",
      "          [0.9194, 0.9194, 0.8485]],\n",
      "\n",
      "         [[0.9194, 0.8485, 0.7078],\n",
      "          [0.9194, 0.8485, 0.7078]],\n",
      "\n",
      "         [[0.8485, 0.7078, 0.7078],\n",
      "          [0.8485, 0.7078, 0.7078]]]])\n",
      "tensor([[[0.0759, 0.0759, 0.4449, 0.0759, 0.0759, 0.4449],\n",
      "         [0.0759, 0.4449, 0.9818, 0.0759, 0.4449, 0.9818],\n",
      "         [0.4449, 0.9818, 0.9818, 0.4449, 0.9818, 0.9818],\n",
      "         [0.0759, 0.0759, 0.4449, 0.9194, 0.9194, 0.8485],\n",
      "         [0.0759, 0.4449, 0.9818, 0.9194, 0.8485, 0.7078],\n",
      "         [0.4449, 0.9818, 0.9818, 0.8485, 0.7078, 0.7078],\n",
      "         [0.9194, 0.9194, 0.8485, 0.9194, 0.9194, 0.8485],\n",
      "         [0.9194, 0.8485, 0.7078, 0.9194, 0.8485, 0.7078],\n",
      "         [0.8485, 0.7078, 0.7078, 0.8485, 0.7078, 0.7078]]])\n"
     ]
    }
   ],
   "source": [
    "z1 = ex_feat.reshape((n, c * patch_size * patch_size, h, w))\n",
    "z2 = z1.reshape((n, c*patch_size*patch_size, h*w))\n",
    "print(z1)\n",
    "print(z2)"
   ]
  },
  {
   "cell_type": "code",
   "execution_count": 66,
   "metadata": {},
   "outputs": [
    {
     "data": {
      "text/plain": [
       "tensor([[[[0, 0, 0, 0],\n",
       "          [0, 0, 0, 0],\n",
       "          [0, 0, 0, 0],\n",
       "          [0, 0, 0, 0]],\n",
       "\n",
       "         [[0, 0, 0, 0],\n",
       "          [0, 0, 0, 0],\n",
       "          [0, 0, 0, 0],\n",
       "          [0, 0, 0, 0]]]])"
      ]
     },
     "execution_count": 66,
     "metadata": {},
     "output_type": "execute_result"
    }
   ],
   "source": [
    "torch.zeros((n, 2, h, w), dtype=int)"
   ]
  },
  {
   "cell_type": "code",
   "execution_count": 101,
   "metadata": {},
   "outputs": [
    {
     "data": {
      "text/plain": [
       "array([0, 1, 2, 3, 4, 5])"
      ]
     },
     "execution_count": 101,
     "metadata": {},
     "output_type": "execute_result"
    }
   ],
   "source": [
    "import numpy as np\n",
    "\n",
    "a = np.arange(6)\n",
    "a"
   ]
  },
  {
   "cell_type": "code",
   "execution_count": 104,
   "metadata": {},
   "outputs": [
    {
     "data": {
      "text/plain": [
       "array([[0, 1, 2],\n",
       "       [3, 4, 5]])"
      ]
     },
     "execution_count": 104,
     "metadata": {},
     "output_type": "execute_result"
    }
   ],
   "source": [
    "a.reshape(2, 3)"
   ]
  },
  {
   "cell_type": "code",
   "execution_count": 107,
   "metadata": {},
   "outputs": [
    {
     "name": "stdout",
     "output_type": "stream",
     "text": [
      "[0 0 1 1 2 2]\n",
      "[0 1 0 1 0 1]\n"
     ]
    }
   ],
   "source": [
    "print(a//2)\n",
    "print(a%2)"
   ]
  },
  {
   "cell_type": "code",
   "execution_count": null,
   "metadata": {},
   "outputs": [],
   "source": []
  }
 ],
 "metadata": {
  "kernelspec": {
   "display_name": "Python 3",
   "language": "python",
   "name": "python3"
  },
  "language_info": {
   "codemirror_mode": {
    "name": "ipython",
    "version": 3
   },
   "file_extension": ".py",
   "mimetype": "text/x-python",
   "name": "python",
   "nbconvert_exporter": "python",
   "pygments_lexer": "ipython3",
   "version": "3.6.5"
  }
 },
 "nbformat": 4,
 "nbformat_minor": 2
}
